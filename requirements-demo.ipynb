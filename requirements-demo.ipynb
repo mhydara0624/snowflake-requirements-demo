{
  "cells": [
    {
      "cell_type": "markdown",
      "metadata": {},
      "source": [
        "# Snowflake Requirements.txt Auto-Installation Demo\n",
        "\n",
        "## Overview\n",
        "This notebook demonstrates Snowflake's ability to automatically install packages from requirements.txt files, including non-Anaconda packages via external access.\n",
        "\n",
        "## Objectives\n",
        "- Show automatic package installation from requirements.txt\n",
        "- Demonstrate external access integration for PyPI packages\n",
        "- Test non-Anaconda packages that require pip install\n",
        "- Validate package functionality\n"
      ]
    },
    {
      "cell_type": "code",
      "execution_count": null,
      "metadata": {},
      "outputs": [],
      "source": [
        "# Check what packages are currently available\n",
        "import sys\n",
        "print(f\"Python version: {sys.version}\")\n",
        "print(f\"Python path: {sys.executable}\")\n",
        "\n",
        "# List currently installed packages\n",
        "import pkg_resources\n",
        "installed_packages = [d.project_name for d in pkg_resources.working_set]\n",
        "print(f\"Currently installed packages: {len(installed_packages)}\")\n",
        "print(\"Sample packages:\", installed_packages[:10])\n"
      ]
    },
    {
      "cell_type": "code",
      "execution_count": null,
      "metadata": {},
      "outputs": [],
      "source": [
        "# Install packages from requirements.txt using external access\n",
        "print(\"Installing packages from requirements.txt...\")\n",
        "print(\"This demonstrates Snowflake's external access integration for PyPI packages\")\n",
        "print(\"The requirements.txt file is already in the repository - we just need to install from it\")\n",
        "\n",
        "# Use pip install with requirements file\n",
        "!pip install -r requirements.txt\n",
        "\n",
        "print(\"✅ Package installation complete!\")\n"
      ]
    },
    {
      "cell_type": "code",
      "execution_count": null,
      "metadata": {},
      "outputs": [],
      "source": [
        "# Verify that packages were installed successfully\n",
        "import requests\n",
        "import bs4\n",
        "import lxml\n",
        "import openpyxl\n",
        "import plotly\n",
        "import dash\n",
        "import streamlit\n",
        "import fastapi\n",
        "import uvicorn\n",
        "import pydantic\n",
        "\n",
        "print(\"✅ All packages imported successfully!\")\n",
        "print(f\"Requests version: {requests.__version__}\")\n",
        "print(f\"BeautifulSoup version: {bs4.__version__}\")\n",
        "print(f\"Plotly version: {plotly.__version__}\")\n",
        "print(f\"FastAPI version: {fastapi.__version__}\")\n"
      ]
    },
    {
      "cell_type": "code",
      "execution_count": null,
      "metadata": {},
      "outputs": [],
      "source": [
        "# Test the installed packages with real functionality\n",
        "import requests\n",
        "import json\n",
        "from bs4 import BeautifulSoup\n",
        "import plotly.express as px\n",
        "import pandas as pd\n",
        "\n",
        "# Test requests package\n",
        "print(\"Testing requests package...\")\n",
        "try:\n",
        "    response = requests.get('https://httpbin.org/json', timeout=5)\n",
        "    data = response.json()\n",
        "    print(f\"✅ Requests working: Status {response.status_code}\")\n",
        "except Exception as e:\n",
        "    print(f\"❌ Requests failed: {e}\")\n",
        "\n",
        "# Test BeautifulSoup\n",
        "print(\"\\nTesting BeautifulSoup...\")\n",
        "try:\n",
        "    html = \"<html><body><h1>Test</h1><p>This is a test</p></body></html>\"\n",
        "    soup = BeautifulSoup(html, 'html.parser')\n",
        "    title = soup.find('h1').text\n",
        "    print(f\"✅ BeautifulSoup working: Found '{title}'\")\n",
        "except Exception as e:\n",
        "    print(f\"❌ BeautifulSoup failed: {e}\")\n",
        "\n",
        "# Test Plotly\n",
        "print(\"\\nTesting Plotly...\")\n",
        "try:\n",
        "    df = pd.DataFrame({'x': [1, 2, 3, 4], 'y': [10, 11, 12, 13]})\n",
        "    fig = px.scatter(df, x='x', y='y', title='Test Plot')\n",
        "    print(\"✅ Plotly working: Chart created successfully\")\n",
        "except Exception as e:\n",
        "    print(f\"❌ Plotly failed: {e}\")\n"
      ]
    },
    {
      "cell_type": "code",
      "execution_count": null,
      "metadata": {},
      "outputs": [],
      "source": [
        "# Show package management capabilities\n",
        "import pkg_resources\n",
        "\n",
        "print(\"📦 PACKAGE MANAGEMENT SUMMARY\")\n",
        "print(\"=\"*50)\n",
        "\n",
        "# Get all installed packages\n",
        "installed = [d.project_name for d in pkg_resources.working_set]\n",
        "print(f\"Total packages installed: {len(installed)}\")\n",
        "\n",
        "# Show our newly installed packages\n",
        "new_packages = ['requests', 'beautifulsoup4', 'lxml', 'openpyxl', 'plotly', 'dash', 'streamlit', 'fastapi', 'uvicorn', 'pydantic']\n",
        "print(f\"\\nNewly installed packages:\")\n",
        "for pkg in new_packages:\n",
        "    if pkg in installed:\n",
        "        print(f\"  ✅ {pkg}\")\n",
        "    else:\n",
        "        print(f\"  ❌ {pkg}\")\n",
        "\n",
        "print(f\"\\n🎯 KEY BENEFITS:\")\n",
        "print(\"  • Automatic package installation from requirements.txt\")\n",
        "print(\"  • External access integration for PyPI packages\")\n",
        "print(\"  • No need to manually install packages\")\n",
        "print(\"  • Reproducible environments across teams\")\n",
        "print(\"  • Standard pip workflows in Snowflake\")\n"
      ]
    }
  ],
  "metadata": {
    "language_info": {
      "name": "python"
    }
  },
  "nbformat": 4,
  "nbformat_minor": 2
}
